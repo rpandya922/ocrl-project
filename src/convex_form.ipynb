{
 "cells": [
  {
   "cell_type": "code",
   "execution_count": 1,
   "id": "excess-nepal",
   "metadata": {},
   "outputs": [
    {
     "data": {
      "text/plain": [
       "initialize_prob (generic function with 1 method)"
      ]
     },
     "execution_count": 1,
     "metadata": {},
     "output_type": "execute_result"
    }
   ],
   "source": [
    "using ForwardDiff\n",
    "using StaticArrays\n",
    "using LinearAlgebra\n",
    "using MathOptInterface\n",
    "const MOI = MathOptInterface\n",
    "using CSV, DataFrames\n",
    "using PyPlot\n",
    "using Distributions\n",
    "using Convex\n",
    "using ECOS\n",
    "using COSMO\n",
    "using Test\n",
    "using Random\n",
    "include(\"SEA.jl\")\n",
    "include(\"BeliefCVX.jl\")"
   ]
  },
  {
   "cell_type": "code",
   "execution_count": 2,
   "id": "armed-cutting",
   "metadata": {},
   "outputs": [
    {
     "data": {
      "text/plain": [
       "get_feasible_traj (generic function with 1 method)"
      ]
     },
     "execution_count": 2,
     "metadata": {},
     "output_type": "execute_result"
    }
   ],
   "source": [
    "function get_feasible_traj(prob)\n",
    "    Cₕ = reshape(prob.θ₀, prob.nₕ+prob.mₕ, prob.nₕ)'\n",
    "    Aₕ = Cₕ[:,1:prob.nₕ]\n",
    "    Bₕ = Cₕ[:,prob.nₕ+1:end]\n",
    "    \n",
    "    # creating a dynamically feasible trajectory\n",
    "    xr = [prob.x₀ for k=1:prob.h]\n",
    "    xh = [prob.x̂₀ for k=1:prob.h]\n",
    "    ur = [zeros(prob.mᵣ) for k=1:prob.h-1]\n",
    "    diffs = [zeros(2) for k=1:prob.h-1]\n",
    "    dists = []\n",
    "    for k=2:prob.h\n",
    "        uᵣ = ur[k-1]\n",
    "        uₕ = [xh[k-1] - xr[k-1]; xh[k-1] - prob.goal]\n",
    "        xr[k] = prob.robot.A*xr[k-1] + prob.robot.B*uᵣ\n",
    "        xh[k] = Aₕ*xh[k-1] + Bₕ*uₕ\n",
    "        diffs[k-1] = xh[k][1:2] - xr[k][1:2]\n",
    "        push!(dists, norm(xh[k][1:2] - xr[k][1:2], 2))\n",
    "    end    \n",
    "\n",
    "    return xr, xh, ur\n",
    "end"
   ]
  },
  {
   "cell_type": "code",
   "execution_count": 3,
   "id": "fourth-groove",
   "metadata": {},
   "outputs": [
    {
     "data": {
      "text/plain": [
       "setup_problem (generic function with 1 method)"
      ]
     },
     "execution_count": 3,
     "metadata": {},
     "output_type": "execute_result"
    }
   ],
   "source": [
    "function get_obj(prob)\n",
    "    nᵣ, mᵣ, nₕ, mₕ = prob.sizes\n",
    "    Q = zeros(nₕ+mₕ, nₕ+mₕ)\n",
    "    Σ_θ = prob.msee_θ₀\n",
    "    Σinds = prob.Σ_inds\n",
    "    for i=1:nₕ\n",
    "        for j=1:nₕ\n",
    "            Σ_cij = view(Σ_θ, Σinds[i], Σinds[j])\n",
    "            Q .= Q + Σ_cij \n",
    "        end\n",
    "    end\n",
    "    Q .= Symmetric(Q)\n",
    "    return Q\n",
    "end\n",
    "\n",
    "function setup_problem(prob)\n",
    "    # robot dynamics constraints\n",
    "    cons = Constraint[]\n",
    "    xᵣ = [Variable(prob.nᵣ) for k=1:prob.h]\n",
    "    uᵣ = [Variable(prob.mᵣ) for k=1:prob.h-1]\n",
    "    for k=2:prob.h\n",
    "        push!(cons, xᵣ[k] == prob.robot.A*xᵣ[k-1] + prob.robot.B*uᵣ[k-1])\n",
    "    end\n",
    "    \n",
    "    # human dynamics constraints\n",
    "    C = reshape(prob.θ₀, prob.nₕ+prob.mₕ, prob.nₕ)'\n",
    "    Aₕ = C[1:prob.nₕ,1:prob.nₕ]\n",
    "    Bₕ = C[1:prob.nₕ,prob.nₕ+1:end]\n",
    "\n",
    "    xₕ = [Variable(prob.nₕ) for k=1:prob.h]\n",
    "    for k=1:prob.h-1\n",
    "        uₕ = [xₕ[k] - xᵣ[k]; xₕ[k] - prob.goal]\n",
    "        push!(cons, xₕ[k+1] == Aₕ*xₕ[k] + Bₕ*uₕ)\n",
    "    end\n",
    "    \n",
    "    # initial state constraints\n",
    "    push!(cons, xᵣ[1] == prob.x₀)\n",
    "    push!(cons, xₕ[1] == prob.x̂₀)\n",
    "    \n",
    "    # distance constraints\n",
    "    τ = [Variable(1) for k=1:prob.h-1]\n",
    "    for k=1:prob.h-1\n",
    "        push!(cons, norm(xᵣ[k+1] - xₕ[k+1], 2) <= τ[k])\n",
    "        push!(cons, τ[k] >= prob.dmin)\n",
    "    end\n",
    "    \n",
    "    # actuator limits\n",
    "    for k=1:prob.h-1\n",
    "        push!(cons, uᵣ[k] <= prob.umax*ones(prob.mᵣ))\n",
    "        push!(cons, uᵣ[k] >= prob.umin*ones(prob.mᵣ))\n",
    "    end\n",
    "    \n",
    "    # reference tracking\n",
    "    uref = zeros(prob.mᵣ, prob.h-1)\n",
    "    xref = zeros(prob.nᵣ, prob.h)\n",
    "    xref[:,1] .= prob.x₀\n",
    "    for k=1:prob.h-1\n",
    "        uref[:,k] .= get_uref(prob, xref[:,k])\n",
    "        xref[:,k+1] .= prob.robot.A*xref[:,k] + prob.robot.B*uref[:,k]\n",
    "    end\n",
    "    \n",
    "    # setting active exploration objective\n",
    "    Q = get_obj(prob)\n",
    "    obj = [quadform([xₕ[k]; xₕ[k] - xᵣ[k]; xₕ[k] - prob.goal], Q) for k=2:prob.h]\n",
    "    \n",
    "    # setting reference tracking objective\n",
    "    Q_ref = 10.0*I(prob.nᵣ)\n",
    "    R_ref = 10.0*I(prob.mᵣ)\n",
    "    Qf = 50.0*I(prob.nᵣ)\n",
    "    for k=1:prob.h-1\n",
    "        push!(obj, quadform(uᵣ[k] - uref[:,k], R_ref))\n",
    "        push!(obj, quadform(xᵣ[k] - xref[:,k], Q_ref))\n",
    "    end\n",
    "    push!(obj, quadform(xᵣ[prob.h] - xref[:,prob.h], Qf))\n",
    "    \n",
    "    problem = minimize(sum(obj), cons)\n",
    "    \n",
    "    return problem, xᵣ, xₕ, uᵣ\n",
    "end"
   ]
  },
  {
   "cell_type": "code",
   "execution_count": 4,
   "id": "reflected-rough",
   "metadata": {},
   "outputs": [
    {
     "name": "stdout",
     "output_type": "stream",
     "text": [
      "\n",
      "ECOS 2.0.5 - (C) embotech GmbH, Zurich Switzerland, 2012-15. Web: www.embotech.com/ECOS\n",
      "\n",
      "It     pcost       dcost      gap   pres   dres    k/t    mu     step   sigma     IR    |   BT\n",
      " 0  +0.000e+00  -2.241e+03  +7e+03  3e-01  3e-01  1e+00  1e+01    ---    ---    1  2  - |  -  - \n",
      " 1  +5.764e+00  -7.449e+02  +3e+03  9e-02  6e-02  3e+00  4e+00  0.8517  3e-01   2  2  1 |  0  0\n",
      " 2  -5.821e+00  -5.303e+02  +2e+03  6e-02  5e-02  2e+00  3e+00  0.5997  5e-01   1  1  1 |  0  0\n",
      " 3  +2.389e+01  -1.273e+02  +5e+02  2e-02  1e-02  8e-01  8e-01  0.7650  8e-02   2  1  1 |  0  0\n",
      " 4  +3.107e+01  -1.296e+02  +5e+02  2e-02  9e-03  9e-01  8e-01  0.1551  7e-01   2  2  2 |  0  0\n",
      " 5  +1.019e+02  +1.385e+01  +2e+02  1e-02  3e-03  6e-01  4e-01  0.8395  3e-01   2  1  1 |  0  0\n",
      " 6  +1.537e+02  +1.294e+02  +6e+01  3e-03  7e-04  2e-01  9e-02  0.8277  1e-01   2  1  1 |  0  0\n",
      " 7  +1.598e+02  +1.389e+02  +4e+01  2e-03  6e-04  1e-01  7e-02  0.4274  5e-01   2  2  2 |  0  0\n",
      " 8  +1.828e+02  +1.798e+02  +6e+00  3e-04  8e-05  2e-02  1e-02  0.9289  8e-02   2  1  1 |  0  0\n",
      " 9  +1.862e+02  +1.857e+02  +1e+00  5e-05  1e-05  3e-03  2e-03  0.8699  3e-02   2  1  1 |  0  0\n",
      "10  +1.866e+02  +1.865e+02  +3e-01  1e-05  3e-06  9e-04  5e-04  0.9398  2e-01   2  1  1 |  0  0\n",
      "11  +1.868e+02  +1.868e+02  +7e-02  3e-06  7e-07  2e-04  1e-04  0.8389  8e-02   2  1  1 |  0  0\n",
      "12  +1.868e+02  +1.868e+02  +2e-02  9e-07  2e-07  6e-05  3e-05  0.8858  2e-01   2  1  1 |  0  0\n",
      "13  +1.868e+02  +1.868e+02  +3e-03  1e-07  3e-08  8e-06  4e-06  0.9554  1e-01   2  1  1 |  0  0\n",
      "14  +1.868e+02  +1.868e+02  +9e-04  4e-08  1e-08  3e-06  1e-06  0.7794  1e-01   2  1  1 |  0  0\n",
      "15  +1.868e+02  +1.868e+02  +3e-04  2e-08  4e-09  1e-06  5e-07  0.8039  2e-01   2  1  1 |  0  0\n",
      "16  +1.868e+02  +1.868e+02  +9e-05  4e-09  1e-09  3e-07  1e-07  0.9501  2e-01   2  1  1 |  0  0\n",
      "17  +1.868e+02  +1.868e+02  +6e-06  3e-10  7e-11  2e-08  9e-09  0.9890  6e-02   2  1  1 |  0  0\n",
      "18  +1.868e+02  +1.868e+02  +2e-07  1e-11  3e-12  7e-10  4e-10  0.9600  2e-04   2  1  1 |  0  0\n",
      "\n",
      "OPTIMAL (within feastol=1.1e-11, reltol=1.2e-09, abstol=2.3e-07).\n",
      "Runtime: 0.015495 seconds.\n",
      "\n"
     ]
    }
   ],
   "source": [
    "prob = initialize_prob(h=40)\n",
    "problem, xᵣ, xₕ, uᵣ = setup_problem(prob)\n",
    "solve!(problem, () -> ECOS.Optimizer(max_iter=10000, verbose=true))"
   ]
  },
  {
   "cell_type": "code",
   "execution_count": 5,
   "id": "dimensional-jacket",
   "metadata": {},
   "outputs": [
    {
     "data": {
      "text/plain": [
       "true"
      ]
     },
     "execution_count": 5,
     "metadata": {},
     "output_type": "execute_result"
    }
   ],
   "source": [
    "problem.status == MOI.OPTIMAL"
   ]
  },
  {
   "cell_type": "code",
   "execution_count": 6,
   "id": "mathematical-riding",
   "metadata": {
    "scrolled": true
   },
   "outputs": [
    {
     "name": "stderr",
     "output_type": "stream",
     "text": [
      "┌ Warning: Problem status ALMOST_OPTIMAL; solution may be inaccurate.\n",
      "└ @ Convex /Users/rapandya/.julia/packages/Convex/SRJjA/src/solution.jl:250\n",
      "┌ Warning: Problem status ALMOST_OPTIMAL; solution may be inaccurate.\n",
      "└ @ Convex /Users/rapandya/.julia/packages/Convex/SRJjA/src/solution.jl:250\n",
      "┌ Warning: Problem status ALMOST_OPTIMAL; solution may be inaccurate.\n",
      "└ @ Convex /Users/rapandya/.julia/packages/Convex/SRJjA/src/solution.jl:250\n"
     ]
    }
   ],
   "source": [
    "# Random.seed!(123)\n",
    "prob = initialize_prob(h=40)\n",
    "T = 200 # number of timesteps\n",
    "xᵣ = prob.x₀\n",
    "xₕ = prob.x̂₀\n",
    "tₛ = prob.tₛ \n",
    "Aₕ = [1 0 tₛ 0;\n",
    "      0 1 0 tₛ;\n",
    "      0 0 1 0;\n",
    "      0 0 0 1]\n",
    "\n",
    "B1 = 0.5 .*[0 0 0 0;\n",
    "             0 0 0 0; \n",
    "             0 0 tₛ 0;\n",
    "             0 0 0 tₛ]\n",
    "B2 = (-0.1) .*[1 0 0 0;  \n",
    "               0 1 0 0; \n",
    "               0 0 0 0;\n",
    "               0 0 0 0]\n",
    "Bₕ = [B1 B2]\n",
    "A_true = Aₕ\n",
    "B_true = Bₕ\n",
    "θ_true = vec([A_true B_true]')\n",
    "human = Human(A_true, B_true)\n",
    "points = [0, 0]\n",
    "# prob.robot_goal .= [(20 .*rand(2) .- 10); 0; 0]\n",
    "prob.robot_goal .= Array{Float64}([0; 0; 0; 0])\n",
    "prob.x₀ .= Array{Float64}([-1; 3; 0; 0])\n",
    "prob.x̂₀ .= Array{Float64}([0; 0; 0; 0])\n",
    "\n",
    "# storing data\n",
    "all_xₕ = [xₕ zeros(prob.nₕ, T-1)]\n",
    "all_xᵣ = [xᵣ zeros(prob.nᵣ, T-1)]\n",
    "all_uᵣ = zeros(prob.mᵣ, T-1)\n",
    "all_msee_x = zeros(prob.nₕ, prob.nₕ, T)\n",
    "all_msee_x[:,:,1] .= prob.msee_x₀\n",
    "all_goals = [prob.goal zeros(prob.nₕ, T-1)]\n",
    "\n",
    "# saving metrics\n",
    "pred_err = zeros(T-1)\n",
    "θ_est_err = zeros(T-1)\n",
    "msee_norm = zeros(T-1)\n",
    "noise = MvNormal(zeros(4), 0.1I)\n",
    "for k=2:T\n",
    "    problem, xᵣ_var, xₕ_var, uᵣ_var = setup_problem(prob)\n",
    "    solve!(problem, () -> ECOS.Optimizer(verbose=false), silent_solver=true)\n",
    "    \n",
    "    if problem.status == MOI.INFEASIBLE\n",
    "        uᵣ = get_uref(prob)\n",
    "    else\n",
    "        # extract first action for the robot\n",
    "        uᵣ = evaluate(uᵣ_var[1])\n",
    "    end\n",
    "    \n",
    "    uᵣ = get_uᵣ_SEA(prob, uᵣ, true)\n",
    "\n",
    "    # robot and human move\n",
    "    uₕ = get_uₕ(prob, xₕ, xᵣ)\n",
    "    xᵣ = prob.robot.A*xᵣ + prob.robot.B*uᵣ\n",
    "#     xₕ_obs = human.A*xₕ + human.B*uₕ + rand(noise)\n",
    "#     xₕ_true = human.A*xₕ + human.B*uₕ\n",
    "    xₕ_true = nonlinear_human(prob, xₕ, xᵣ)\n",
    "    xₕ_obs = xₕ_true + rand(noise)\n",
    "    \n",
    "    # do adaptation\n",
    "    err = adapt_θ!(prob, prob.x̂₀, xₕ_obs, xᵣ, uᵣ)\n",
    "    xₕ = xₕ_true\n",
    "    \n",
    "    game_logic(prob, points)\n",
    "    \n",
    "    # store data\n",
    "    all_xₕ[:,k] .= xₕ\n",
    "    all_xᵣ[:,k] .= xᵣ\n",
    "    all_uᵣ[:,k-1] .= uᵣ\n",
    "    all_msee_x[:,:,k] .= prob.msee_x₀\n",
    "    all_goals[:,k] .= prob.goal\n",
    "    \n",
    "    # compute and store metrics\n",
    "    pred_err[k-1] = err\n",
    "    θ_est_err[k-1] = norm(θ_true - prob.θ₀)\n",
    "    msee_norm[k-1] = norm(prob.msee_x₀)\n",
    "end"
   ]
  },
  {
   "cell_type": "code",
   "execution_count": 7,
   "id": "broke-entertainment",
   "metadata": {},
   "outputs": [
    {
     "data": {
      "image/png": "[encoded data removed]",
      "text/plain": [
       "Figure(PyObject <Figure size 640x480 with 1 Axes>)"
      ]
     },
     "metadata": {},
     "output_type": "display_data"
    },
    {
     "data": {
      "text/plain": [
       "1-element Array{PyCall.PyObject,1}:\n",
       " PyObject <matplotlib.lines.Line2D object at 0x7f95dd6593d0>"
      ]
     },
     "execution_count": 7,
     "metadata": {},
     "output_type": "execute_result"
    }
   ],
   "source": [
    "plot(all_xₕ[1,:])\n",
    "plot(all_xₕ[2,:])"
   ]
  },
  {
   "cell_type": "code",
   "execution_count": 8,
   "id": "informal-decision",
   "metadata": {},
   "outputs": [
    {
     "data": {
      "image/png": "[encoded data removed]",
      "text/plain": [
       "Figure(PyObject <Figure size 640x480 with 1 Axes>)"
      ]
     },
     "metadata": {},
     "output_type": "display_data"
    },
    {
     "data": {
      "text/plain": [
       "1-element Array{PyCall.PyObject,1}:\n",
       " PyObject <matplotlib.lines.Line2D object at 0x7f95dda074f0>"
      ]
     },
     "execution_count": 8,
     "metadata": {},
     "output_type": "execute_result"
    }
   ],
   "source": [
    "plot(all_xᵣ[1,:])\n",
    "plot(all_xᵣ[2,:])"
   ]
  },
  {
   "cell_type": "code",
   "execution_count": 9,
   "id": "super-affiliation",
   "metadata": {},
   "outputs": [],
   "source": [
    "# save resulting trajectories to python for replay\n",
    "msee_XX = zeros(prob.nₕ^2, T)\n",
    "for i=1:T\n",
    "    msee_XX[:,i] .= vec(all_msee_x[:,:,i])\n",
    "end\n",
    "# CSV.write(\"../data/ecos_U_active.csv\", DataFrame(all_uᵣ, :auto), header=false)\n",
    "# CSV.write(\"../data/ecos_X_active.csv\", DataFrame(all_xᵣ, :auto), header = false)\n",
    "# CSV.write(\"../data/ecos_X_hat_active.csv\", DataFrame(all_xₕ, :auto), header = false)\n",
    "# CSV.write(\"../data/ecos_msee_active.csv\", DataFrame(msee_XX, :auto), header = false)\n",
    "\n",
    "# CSV.write(\"../data/ecos_U.csv\", DataFrame(all_uᵣ, :auto), header=false)\n",
    "# CSV.write(\"../data/ecos_X.csv\", DataFrame(all_xᵣ, :auto), header = false)\n",
    "# CSV.write(\"../data/ecos_X_hat.csv\", DataFrame(all_xₕ, :auto), header = false)\n",
    "# CSV.write(\"../data/ecos_msee.csv\", DataFrame(msee_XX, :auto), header = false)"
   ]
  },
  {
   "cell_type": "code",
   "execution_count": null,
   "id": "third-myrtle",
   "metadata": {},
   "outputs": [],
   "source": []
  }
 ],
 "metadata": {
  "kernelspec": {
   "display_name": "Julia 1.5.3",
   "language": "julia",
   "name": "julia-1.5"
  },
  "language_info": {
   "file_extension": ".jl",
   "mimetype": "application/julia",
   "name": "julia",
   "version": "1.5.3"
  }
 },
 "nbformat": 4,
 "nbformat_minor": 5
}
