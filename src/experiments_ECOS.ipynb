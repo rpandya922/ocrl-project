{
 "cells": [
  {
   "cell_type": "code",
   "execution_count": 1,
   "id": "taken-peeing",
   "metadata": {},
   "outputs": [
    {
     "data": {
      "text/plain": [
       "run_trial (generic function with 1 method)"
      ]
     },
     "execution_count": 1,
     "metadata": {},
     "output_type": "execute_result"
    }
   ],
   "source": [
    "include(\"ECOS_opt.jl\")"
   ]
  },
  {
   "cell_type": "code",
   "execution_count": 2,
   "id": "fiscal-administrator",
   "metadata": {
    "scrolled": true
   },
   "outputs": [],
   "source": [
    "all_points = []\n",
    "all_pred_err = []\n",
    "all_msee = []\n",
    "all_results = []\n",
    "for k=1:50\n",
    "    results = run_trial(cont=:active, ssa=false)\n",
    "    points = results[\"points\"]\n",
    "    push!(all_points, points[1])\n",
    "    push!(all_pred_err, mean(results[\"pred_err\"]))\n",
    "    push!(all_msee, mean(results[\"msee_norm\"]))\n",
    "    push!(all_results, results)\n",
    "end"
   ]
  },
  {
   "cell_type": "code",
   "execution_count": 3,
   "id": "several-austin",
   "metadata": {},
   "outputs": [],
   "source": [
    "all_points_sea = []\n",
    "all_pred_err_sea = []\n",
    "all_msee_sea = []\n",
    "all_model_err_sea = []\n",
    "for k=1:50\n",
    "    results = run_trial(cont=:sea, ssa=false)\n",
    "    points = results[\"points\"]\n",
    "    push!(all_points_sea, points[1])\n",
    "    push!(all_pred_err_sea, mean(results[\"pred_err\"]))\n",
    "    push!(all_model_err_sea, mean(results[\"θ_est_err\"]))\n",
    "    push!(all_msee_sea, mean(results[\"msee_norm\"]))\n",
    "end"
   ]
  },
  {
   "cell_type": "code",
   "execution_count": 4,
   "id": "advisory-genealogy",
   "metadata": {},
   "outputs": [
    {
     "data": {
      "image/png": "[encoded data removed]",
      "text/plain": [
       "Figure(PyObject <Figure size 640x480 with 1 Axes>)"
      ]
     },
     "metadata": {},
     "output_type": "display_data"
    }
   ],
   "source": [
    "scatter(all_pred_err_sea, all_points_sea, c=\"grey\")\n",
    "scatter(all_pred_err, all_points, c=\"C1\")\n",
    "xlim(-0.2, 6.2)\n",
    "# savefig(\"pred_err.pdf\")"
   ]
  },
  {
   "cell_type": "code",
   "execution_count": null,
   "id": "sorted-senate",
   "metadata": {},
   "outputs": [],
   "source": []
  }
 ],
 "metadata": {
  "kernelspec": {
   "display_name": "Julia 1.5.3",
   "language": "julia",
   "name": "julia-1.5"
  },
  "language_info": {
   "file_extension": ".jl",
   "mimetype": "application/julia",
   "name": "julia",
   "version": "1.5.3"
  }
 },
 "nbformat": 4,
 "nbformat_minor": 5
}
